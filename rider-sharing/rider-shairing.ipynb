{
 "cells": [
  {
   "cell_type": "code",
   "execution_count": 8,
   "metadata": {
    "collapsed": true,
    "ExecuteTime": {
     "start_time": "2023-05-18T22:44:10.551460Z",
     "end_time": "2023-05-18T22:44:10.579975Z"
    }
   },
   "outputs": [],
   "source": [
    "import math\n",
    "import time\n",
    "\n",
    "input_str = \"\"\"\n",
    "ADD_DRIVER D1 1 1\n",
    "ADD_DRIVER D2 4 5\n",
    "ADD_DRIVER D3 2 2\n",
    "ADD_RIDER R1 0 0\n",
    "MATCH R1\n",
    "START_RIDE RIDE-001 2 R1\n",
    "STOP_RIDE RIDE-001 4 5 32\n",
    "BILL RIDE-001\n",
    "\"\"\"\n",
    "\n",
    "input_str = \"\"\"\n",
    "\n",
    "ADD_DRIVER D1 0 1\n",
    "ADD_DRIVER D2 2 3\n",
    "ADD_RIDER R1 3 5\n",
    "ADD_DRIVER D3 4 2\n",
    "ADD_RIDER R2 1 1\n",
    "MATCH R1\n",
    "MATCH R2\n",
    "START_RIDE RIDE-101 1 R1\n",
    "START_RIDE RIDE-102 1 R2\n",
    "STOP_RIDE RIDE-101 10 2 48\n",
    "STOP_RIDE RIDE-102 7 9 50\n",
    "BILL RIDE-101\n",
    "BILL RIDE-102\n",
    "\n",
    "\"\"\"\n",
    "\n",
    "testcase = input_str.strip().splitlines()#[i for i in  input_str.splitlines() if len(i)>0]"
   ]
  },
  {
   "cell_type": "code",
   "execution_count": 9,
   "outputs": [],
   "source": [
    "from dataclasses import dataclass,field\n",
    "\n",
    "from datetime import datetime\n",
    "\n",
    "from typing import Tuple,Dict,DefaultDict,List\n",
    "\n",
    "from collections import defaultdict"
   ],
   "metadata": {
    "collapsed": false,
    "ExecuteTime": {
     "start_time": "2023-05-18T22:44:10.556404Z",
     "end_time": "2023-05-18T22:44:10.580207Z"
    }
   }
  },
  {
   "cell_type": "code",
   "execution_count": 10,
   "outputs": [],
   "source": [
    "from icecream import ic"
   ],
   "metadata": {
    "collapsed": false,
    "ExecuteTime": {
     "start_time": "2023-05-18T22:44:10.559392Z",
     "end_time": "2023-05-18T22:44:10.617148Z"
    }
   }
  },
  {
   "cell_type": "code",
   "execution_count": 11,
   "outputs": [],
   "source": [
    "@dataclass(slots=True)\n",
    "class Ride:\n",
    "    id: str\n",
    "    driver_id: str\n",
    "    rider_id: str\n",
    "\n",
    "    # driver_coords: Tuple[int]\n",
    "    start_coords: Tuple[int]\n",
    "    dest_coords: Tuple[int] = field(init=False)\n",
    "\n",
    "    started_at: datetime = field(init=False)\n",
    "    ended_at: datetime = field(init=False)\n",
    "\n",
    "    duration: int = field(init=False)\n",
    "\n",
    "    def start(self):\n",
    "        self.started_at = datetime.now()\n",
    "\n",
    "    def stop(self,dest_coords,duration_in_minutes=0):\n",
    "        self.ended_at = datetime.now()\n",
    "        self.dest_coords = dest_coords\n",
    "        self.duration = duration_in_minutes"
   ],
   "metadata": {
    "collapsed": false,
    "ExecuteTime": {
     "start_time": "2023-05-18T22:44:10.573202Z",
     "end_time": "2023-05-18T22:44:10.617383Z"
    }
   }
  },
  {
   "cell_type": "code",
   "execution_count": 12,
   "outputs": [],
   "source": [
    "@dataclass(slots=True)\n",
    "class Driver:\n",
    "    id: str\n",
    "    coord: List[int]\n",
    "\n",
    "@dataclass(slots=True)\n",
    "class Rider:\n",
    "    id: str\n",
    "    coord: List[int]\n"
   ],
   "metadata": {
    "collapsed": false,
    "ExecuteTime": {
     "start_time": "2023-05-18T22:44:10.578056Z",
     "end_time": "2023-05-18T22:44:10.617535Z"
    }
   }
  },
  {
   "cell_type": "code",
   "execution_count": 13,
   "outputs": [],
   "source": [
    "drivers:Dict[str,Driver] = dict()\n",
    "\n",
    "matched:DefaultDict[str,List[int]] = defaultdict(lambda:[]) #driverid's\n",
    "\n",
    "riders:Dict[str,Rider] = dict()\n",
    "\n",
    "rides:Dict[str,Ride] = dict()\n",
    "\n",
    "def rest_global():\n",
    "    # gs = [drivers,matched,riders,rides]\n",
    "    drivers.clear()\n",
    "    matched.clear()\n",
    "    riders.clear()\n",
    "    rides.clear()"
   ],
   "metadata": {
    "collapsed": false,
    "ExecuteTime": {
     "start_time": "2023-05-18T22:44:10.582922Z",
     "end_time": "2023-05-18T22:44:10.617631Z"
    }
   }
  },
  {
   "cell_type": "code",
   "execution_count": 14,
   "outputs": [],
   "source": [
    "def add_driver(id:str,x:int,y:int):\n",
    "    driver = Driver(id,[x,y])\n",
    "    drivers[id] = driver\n",
    "\n",
    "    ic(driver)"
   ],
   "metadata": {
    "collapsed": false,
    "ExecuteTime": {
     "start_time": "2023-05-18T22:44:10.586514Z",
     "end_time": "2023-05-18T22:44:10.617768Z"
    }
   }
  },
  {
   "cell_type": "code",
   "execution_count": 15,
   "outputs": [],
   "source": [
    "def add_rider(id:str, x:int, y:int):\n",
    "    rider = Rider(id,[x,y])\n",
    "    riders[id] = rider\n",
    "\n",
    "    ic(rider)"
   ],
   "metadata": {
    "collapsed": false,
    "ExecuteTime": {
     "start_time": "2023-05-18T22:44:10.591302Z",
     "end_time": "2023-05-18T22:44:10.617901Z"
    }
   }
  },
  {
   "cell_type": "code",
   "execution_count": 16,
   "outputs": [],
   "source": [
    "def match(rider_id:str):\n",
    "\n",
    "    drivers_available = []\n",
    "\n",
    "    rider = riders[rider_id]\n",
    "\n",
    "    for driver in drivers.values():\n",
    "        d = distance(driver.coord,rider.coord)\n",
    "        if d<=5:\n",
    "            ic(rider_id,driver.id,d)\n",
    "            drivers_available.append((driver.id,d))\n",
    "        else:\n",
    "            ic(f\"ignoring {driver.id} is {d} away\")\n",
    "\n",
    "\n",
    "    drivers_available = sorted(drivers_available,key =lambda val : (val[1],val[0]))\n",
    "\n",
    "    ic(drivers_available)\n",
    "\n",
    "    if len(drivers_available)==0:\n",
    "        print(\"NO_DRIVERS_AVAILABLE\")\n",
    "        return\n",
    "\n",
    "    drivers_available = drivers_available[:5]\n",
    "\n",
    "    shorted_drivers = [i[0] for i in drivers_available]\n",
    "\n",
    "    matched[rider_id] = shorted_drivers\n",
    "\n",
    "    print(f\"\"\"DRIVERS_MATCHED {\" \".join(shorted_drivers)}\"\"\")\n"
   ],
   "metadata": {
    "collapsed": false,
    "ExecuteTime": {
     "start_time": "2023-05-18T22:44:10.597423Z",
     "end_time": "2023-05-18T22:44:10.617989Z"
    }
   }
  },
  {
   "cell_type": "code",
   "execution_count": 17,
   "outputs": [],
   "source": [
    "def start_ride(ride_id:str, driver_n:int, rider_id:str):\n",
    "    if ride_id in rides:\n",
    "        print(\"INVALID_RIDE\")\n",
    "        ic(f\"ride-{ride_id} already exist\")\n",
    "        return\n",
    "\n",
    "    drivers_matched = matched[rider_id]\n",
    "\n",
    "    if len(drivers_matched)<driver_n:\n",
    "        print(\"INVALID_RIDE\")\n",
    "        ic(f\"no drivers matched\")\n",
    "        return\n",
    "\n",
    "    driver_id = drivers_matched[driver_n-1]\n",
    "\n",
    "    rider = riders[rider_id]\n",
    "\n",
    "    ride = Ride(ride_id,driver_id,rider.id,rider.coord)\n",
    "    rides[ride_id] = ride\n",
    "    ride.start()\n",
    "\n",
    "    print(f\"RIDE_STARTED {ride.id}\")"
   ],
   "metadata": {
    "collapsed": false,
    "ExecuteTime": {
     "start_time": "2023-05-18T22:44:10.606534Z",
     "end_time": "2023-05-18T22:44:10.618077Z"
    }
   }
  },
  {
   "cell_type": "code",
   "execution_count": 18,
   "outputs": [],
   "source": [
    "def stop_ride(ride_id:str, dest_coords:Tuple[int], time_taken:int):\n",
    "    if ride_id not in rides:\n",
    "        print(\"INVALID_RIDE\")\n",
    "        return\n",
    "    ride = rides[ride_id]\n",
    "    ride.dest_coords = dest_coords\n",
    "    ride.stop(dest_coords,time_taken)\n",
    "    ic(ride)\n",
    "    print(f\"RIDE_STOPPED {ride_id}\")"
   ],
   "metadata": {
    "collapsed": false,
    "ExecuteTime": {
     "start_time": "2023-05-18T22:44:10.612089Z",
     "end_time": "2023-05-18T22:44:10.618165Z"
    }
   }
  },
  {
   "cell_type": "code",
   "execution_count": 19,
   "outputs": [],
   "source": [
    "def distance(start_coord: Tuple[int],dest_coord:Tuple[int])->float:\n",
    "    x2, x1 = dest_coord[0],start_coord[0]\n",
    "    y2, y1 = dest_coord[1],start_coord[1]\n",
    "\n",
    "    return math.sqrt((x2-x1)**2+(y2-y1)**2)\n",
    "\n",
    "def bill(ride_id:str):\n",
    "    base_fare = 50\n",
    "    cost_per_km = 6.5\n",
    "    cost_per_min = 2\n",
    "    service_tax = .2\n",
    "\n",
    "    if ride_id not in rides:\n",
    "        print(\"INVALID_RIDE\")\n",
    "        return\n",
    "\n",
    "    ride:Ride = rides[ride_id]\n",
    "\n",
    "    if ride.ended_at is None:\n",
    "        print(\"RIDE_NOT_COMPLETED\")\n",
    "        return\n",
    "\n",
    "    # duration = (ride.started_at-ride.ended_at).total_seconds()//60 #FIXME could be a prob\n",
    "\n",
    "    duration = ride.duration\n",
    "\n",
    "    d = round(distance(ride.start_coords, ride.dest_coords),2)\n",
    "\n",
    "    amt= base_fare + duration*cost_per_min + d*cost_per_km\n",
    "\n",
    "    ic(amt)\n",
    "    amt += amt*service_tax\n",
    "\n",
    "    ic(amt)\n",
    "    amt = round(amt,2)\n",
    "    print(f\"BILL {ride.id} {ride.driver_id} {amt}\")\n"
   ],
   "metadata": {
    "collapsed": false,
    "ExecuteTime": {
     "start_time": "2023-05-18T22:44:10.633138Z",
     "end_time": "2023-05-18T22:44:10.690258Z"
    }
   }
  },
  {
   "cell_type": "code",
   "execution_count": 20,
   "outputs": [],
   "source": [
    "def command_parser(cmd:str):\n",
    "    cmd, *args = cmd.split(\" \")\n",
    "\n",
    "    if cmd == \"ADD_DRIVER\":\n",
    "        coord = list(map(int,args[1:]))\n",
    "        add_driver(args[0],*coord)\n",
    "\n",
    "    if cmd == \"ADD_RIDER\":\n",
    "        coord = list(map(int,args[1:]))\n",
    "        add_rider(args[0],*coord)\n",
    "\n",
    "    if cmd == \"MATCH\":\n",
    "        match(args[0])\n",
    "\n",
    "    if cmd == \"START_RIDE\":\n",
    "        ride_id, nth_rider, rider_id = args\n",
    "        start_ride(ride_id,int(nth_rider),rider_id)\n",
    "\n",
    "    if cmd == \"STOP_RIDE\":\n",
    "        ride_id, dest_x, dest_y, time_taken = args\n",
    "        dest_coord  = (int(dest_x),int(dest_y))\n",
    "        stop_ride(ride_id,dest_coord,int(time_taken))\n",
    "\n",
    "    if cmd == \"BILL\":\n",
    "        ride_id = args[0]\n",
    "        bill(ride_id)"
   ],
   "metadata": {
    "collapsed": false,
    "ExecuteTime": {
     "start_time": "2023-05-18T22:44:10.684087Z",
     "end_time": "2023-05-18T22:44:10.691940Z"
    }
   }
  },
  {
   "cell_type": "code",
   "execution_count": 47,
   "outputs": [
    {
     "name": "stderr",
     "output_type": "stream",
     "text": [
      "ic| i: 'ADD_DRIVER D1 0 1'\n",
      "ic| driver: Driver(id='D1', coord=[0, 1])\n",
      "ic| i: 'ADD_DRIVER D2 2 3'\n",
      "ic| driver: Driver(id='D2', coord=[2, 3])\n",
      "ic| i: 'ADD_RIDER R1 3 5'\n",
      "ic| rider: Rider(id='R1', coord=[3, 5])\n",
      "ic| i: 'ADD_DRIVER D3 4 2'\n",
      "ic| driver: Driver(id='D3', coord=[4, 2])\n",
      "ic| i: 'ADD_RIDER R2 1 1'\n",
      "ic| rider: Rider(id='R2', coord=[1, 1])\n",
      "ic| i: 'MATCH R1'\n",
      "ic| f\"ignoring {driver.id} is {d} away\": 'ignoring D1 is 5.0 away'\n",
      "ic| rider_id: 'R1', driver.id: 'D2', d: 2.23606797749979\n",
      "ic| rider_id: 'R1', driver.id: 'D3', d: 3.1622776601683795\n",
      "ic| drivers_available: [('D2', 2.23606797749979), ('D3', 3.1622776601683795)]\n",
      "ic| i: 'MATCH R2'\n",
      "ic| rider_id: 'R2', driver.id: 'D1', d: 1.0\n",
      "ic| rider_id: 'R2', driver.id: 'D2', d: 2.23606797749979\n",
      "ic| rider_id: 'R2', driver.id: 'D3', d: 3.1622776601683795\n",
      "ic| drivers_available: [('D1', 1.0), ('D2', 2.23606797749979), ('D3', 3.1622776601683795)]\n",
      "ic| i: 'START_RIDE RIDE-101 1 R1'\n",
      "ic| i: 'START_RIDE RIDE-102 1 R2'\n",
      "ic| i: 'STOP_RIDE RIDE-101 10 2 48'\n",
      "ic| ride: Ride(id='RIDE-101"
     ]
    },
    {
     "name": "stdout",
     "output_type": "stream",
     "text": [
      "DRIVERS_MATCHED D2 D3\n",
      "DRIVERS_MATCHED D1 D2 D3\n",
      "RIDE_STARTED RIDE-101\n",
      "RIDE_STARTED RIDE-102\n"
     ]
    },
    {
     "name": "stderr",
     "output_type": "stream",
     "text": [
      "',\n",
      "               driver_id='D2',\n",
      "               rider_id='R1',\n",
      "               start_coords=[3, 5],\n",
      "               dest_coords=(10, 2),\n",
      "               started_at=datetime.datetime(2023, 5, 18, 22, 45, 23, 373658),\n",
      "               ended_at=datetime.datetime(2023, 5, 18, 22, 45, 23, 403450),\n",
      "               duration=48)\n",
      "ic| i: 'STOP_RIDE RIDE-102 7 9 50'\n",
      "ic| ride: Ride(id='RIDE-102',\n",
      "               driver_id='D1',\n",
      "               rider_id='R2R2"
     ]
    }
   ],
   "source": [
    "rest_global()\n",
    "for i in testcase:\n",
    "    ic(i)\n",
    "    command_parser(i)\n"
   ],
   "metadata": {
    "collapsed": false,
    "ExecuteTime": {
     "start_time": "2023-05-18T22:45:23.022007Z",
     "end_time": "2023-05-18T22:45:23.805895Z"
    }
   }
  },
  {
   "cell_type": "code",
   "execution_count": 22,
   "outputs": [],
   "source": [
    "# ic.disable()\n",
    "# ic.enable()"
   ],
   "metadata": {
    "collapsed": false,
    "ExecuteTime": {
     "start_time": "2023-05-18T22:44:10.532655Z",
     "end_time": "2023-05-18T22:44:11.663170Z"
    }
   }
  },
  {
   "cell_type": "code",
   "execution_count": 46,
   "outputs": [],
   "source": [
    "def run_testcase(in_str:str):\n",
    "    rest_global()\n",
    "    testcase = in_str.strip().splitlines()\n",
    "    for i in testcase:\n",
    "        ic(i)\n",
    "        command_parser(i)"
   ],
   "metadata": {
    "collapsed": false,
    "ExecuteTime": {
     "start_time": "2023-05-18T22:45:12.419763Z",
     "end_time": "2023-05-18T22:45:12.490812Z"
    }
   }
  },
  {
   "cell_type": "code",
   "execution_count": 34,
   "outputs": [],
   "source": [
    "testcase = \"\"\"\n",
    "ADD_DRIVER D1 0 1\n",
    "ADD_DRIVER D2 2 3\n",
    "ADD_RIDER R1 3 5\n",
    "ADD_DRIVER D3 4 2\n",
    "ADD_RIDER R2 1 1\n",
    "MATCH R1\n",
    "MATCH R2\n",
    "START_RIDE RIDE-101 1 R1\n",
    "START_RIDE RIDE-102 1 R2\n",
    "STOP_RIDE RIDE-101 10 2 48\n",
    "STOP_RIDE RIDE-102 7 9 50\n",
    "BILL RIDE-101\n",
    "BILL RIDE-102\n",
    "\"\"\".strip().splitlines()"
   ],
   "metadata": {
    "collapsed": false,
    "ExecuteTime": {
     "start_time": "2023-05-18T22:45:06.327389Z",
     "end_time": "2023-05-18T22:45:06.353086Z"
    }
   }
  },
  {
   "cell_type": "code",
   "execution_count": 33,
   "outputs": [
    {
     "ename": "NameError",
     "evalue": "name 'stop' is not defined",
     "output_type": "error",
     "traceback": [
      "\u001B[0;31m---------------------------------------------------------------------------\u001B[0m",
      "\u001B[0;31mNameError\u001B[0m                                 Traceback (most recent call last)",
      "Cell \u001B[0;32mIn[33], line 1\u001B[0m\n\u001B[0;32m----> 1\u001B[0m \u001B[43mstop\u001B[49m\n",
      "\u001B[0;31mNameError\u001B[0m: name 'stop' is not defined"
     ]
    }
   ],
   "source": [
    "stop"
   ],
   "metadata": {
    "collapsed": false
   }
  },
  {
   "cell_type": "code",
   "execution_count": 25,
   "outputs": [],
   "source": [
    "import os\n",
    "\n",
    "testcase_dir = \"sample_input\"\n",
    "testcase_files = os.listdir(testcase_dir)\n",
    "\n",
    "input_files = [os.path.join(testcase_dir,i) for i in testcase_files if \"input\" in i ]#and os.path.isfile(i)]\n",
    "output_files = [os.path.join(testcase_dir,i) for i in testcase_files if \"output\" in i] #and os.path.isfile(i)]\n",
    "\n",
    "input_files.sort()\n",
    "output_files.sort()"
   ],
   "metadata": {
    "collapsed": false,
    "ExecuteTime": {
     "start_time": "2023-05-18T22:44:10.532769Z",
     "end_time": "2023-05-18T22:44:11.696390Z"
    }
   }
  },
  {
   "cell_type": "code",
   "execution_count": 26,
   "outputs": [
    {
     "data": {
      "text/plain": "(['sample_input/input.txt', 'sample_input/input1.txt'],\n ['sample_input/output.txt', 'sample_input/output1.txt'])"
     },
     "execution_count": 26,
     "metadata": {},
     "output_type": "execute_result"
    }
   ],
   "source": [
    "input_files,output_files"
   ],
   "metadata": {
    "collapsed": false,
    "ExecuteTime": {
     "start_time": "2023-05-18T22:44:10.532807Z",
     "end_time": "2023-05-18T22:44:11.697120Z"
    }
   }
  },
  {
   "cell_type": "code",
   "execution_count": 27,
   "outputs": [],
   "source": [
    "testcases = []\n",
    "for i in range(len(input_files)):\n",
    "    with open(input_files[i],'r') as f1:\n",
    "        testcase = [i.strip() for i in f1.readlines() if len(i)>0]\n",
    "        testcases.append(testcase)\n",
    "\n"
   ],
   "metadata": {
    "collapsed": false,
    "ExecuteTime": {
     "start_time": "2023-05-18T22:44:10.532842Z",
     "end_time": "2023-05-18T22:44:11.749958Z"
    }
   }
  },
  {
   "cell_type": "code",
   "execution_count": 28,
   "outputs": [
    {
     "data": {
      "text/plain": "[['ADD_DRIVER D1 1 1',\n  'ADD_DRIVER D2 4 5',\n  'ADD_DRIVER D3 2 2',\n  'ADD_RIDER R1 0 0',\n  'MATCH R1',\n  'START_RIDE RIDE-001 2 R1',\n  'STOP_RIDE RIDE-001 4 5 32',\n  'BILL RIDE-001'],\n ['ADD_DRIVER D1 0 1',\n  'ADD_DRIVER D2 2 3',\n  'ADD_RIDER R1 3 5',\n  'ADD_DRIVER D3 4 2',\n  'ADD_RIDER R2 1 1',\n  'MATCH R1',\n  'MATCH R2',\n  'START_RIDE RIDE-101 1 R1',\n  'START_RIDE RIDE-102 1 R2',\n  'STOP_RIDE RIDE-101 10 2 48',\n  'STOP_RIDE RIDE-102 7 9 50',\n  'BILL RIDE-101',\n  'BILL RIDE-102']]"
     },
     "execution_count": 28,
     "metadata": {},
     "output_type": "execute_result"
    }
   ],
   "source": [
    "testcases"
   ],
   "metadata": {
    "collapsed": false,
    "ExecuteTime": {
     "start_time": "2023-05-18T22:44:10.532878Z",
     "end_time": "2023-05-18T22:44:11.788144Z"
    }
   }
  },
  {
   "cell_type": "code",
   "execution_count": 29,
   "outputs": [
    {
     "name": "stderr",
     "output_type": "stream",
     "text": [
      "ic| i: 'ADD_DRIVER D1 1 1'\n",
      "ic| driver: Driver(id='D1', coord=[1, 1])\n",
      "ic| i: 'ADD_DRIVER D2 4 5'\n",
      "ic| driver: Driver(id='D2', coord=[4, 5])\n",
      "ic| i: 'ADD_DRIVER D3 2 2'\n",
      "ic| driver: Driver(id='D3', coord=[2, 2])\n",
      "ic| i: 'ADD_RIDER R1 0 0'\n",
      "ic| rider: Rider(id='R1', coord=[0, 0])\n",
      "ic| i: 'MATCH R1'\n",
      "ic| rider_id: 'R1', driver.id: 'D1', d: 1.4142135623730951\n",
      "ic| f\"ignoring {driver.id} is {d} away\": 'ignoring D2 is 6.4031242374328485 away'\n",
      "ic| rider_id: 'R1', driver.id: 'D3', d: 2.8284271247461903\n",
      "ic| drivers_available: [('D1', 1.4142135623730951), ('D3', 2.8284271247461903)]\n",
      "ic| i: 'START_RIDE RIDE-001 2 R1'\n",
      "ic| i: 'STOP_RIDE RIDE-001 4 5 32'\n",
      "ic| ride: Ride(id='RIDE-001',\n",
      "               driver_id='D3',\n",
      "               rider_id='R1',\n",
      "               start_coords=[0, 0],\n",
      "               dest_coords=(4, 5),\n",
      "               started_at=datetime.datetime(2023, 5, 18, 22, 44, 12, 297831),\n",
      "               ended_at=datetime.datetime(2023, 5, 18, 22, 44, 12, 314466),\n",
      "               duration=32)\n",
      "ic| i: 'BILL RIDE-001'\n",
      "ic| "
     ]
    },
    {
     "name": "stdout",
     "output_type": "stream",
     "text": [
      "DRIVERS_MATCHED D1 D3\n",
      "RIDE_STARTED RIDE-001\n",
      "RIDE_STOPPED RIDE-001\n"
     ]
    },
    {
     "name": "stderr",
     "output_type": "stream",
     "text": [
      "amt: 155.6\n",
      "ic| amt: 186.72\n",
      "ic| i: 'ADD_DRIVER D1 0 1'\n",
      "ic| driver: Driver(id='D1', coord=[0, 1])\n",
      "ic| i: 'ADD_DRIVER D2 2 3'\n",
      "ic| driver: Driver(id='D2', coord=[2, 3])\n",
      "ic| i: 'ADD_RIDER R1 3 5'\n",
      "ic| rider: Rider(id='R1', coord=[3, 5])\n",
      "ic| i: 'ADD_DRIVER D3 4 2'\n",
      "ic| driver: Driver(id='D3', coord=[4, 2])\n",
      "ic| i: 'ADD_RIDER R2 1 1'\n",
      "ic| rider:"
     ]
    },
    {
     "name": "stdout",
     "output_type": "stream",
     "text": [
      "BILL RIDE-001 D3 186.72\n"
     ]
    },
    {
     "name": "stderr",
     "output_type": "stream",
     "text": [
      " Rider(id='R2', coord=[1, 1])\n",
      "ic| i: 'MATCH R1'\n",
      "ic| f\"ignoring {driver.id} is {d} away\": 'ignoring D1 is 5.0 away'\n",
      "ic| rider_id: 'R1', driver.id: 'D2', d: 2.23606797749979\n",
      "ic| rider_id: 'R1', driver.id: 'D3', d: 3.1622776601683795\n",
      "ic| drivers_available: [('D2', 2.23606797749979), ('D3', 3.1622776601683795)]\n",
      "ic| i: 'MATCH R2'\n",
      "ic| rider_id: 'R2', driver.id: 'D1', d: 1.0\n",
      "ic| rider_id: 'R2', driver.id: 'D2', d: 2.23606797749979\n"
     ]
    },
    {
     "name": "stdout",
     "output_type": "stream",
     "text": [
      "DRIVERS_MATCHED D2 D3\n"
     ]
    },
    {
     "name": "stderr",
     "output_type": "stream",
     "text": [
      "ic| rider_id: 'R2', driver.id: 'D3', d: 3.1622776601683795\n",
      "ic| drivers_available: [('D1', 1.0), ('D2', 2.23606797749979), ('D3', 3.1622776601683795)]\n",
      "ic| i: 'START_RIDE RIDE-101 1 R1'\n",
      "ic| i: 'START_RIDE RIDE-102 1 R2'\n",
      "ic| i: 'STOP_RIDE RIDE-101 10 2 48'\n",
      "ic| ride: Ride(id='RIDE-101',\n",
      "               driver_id='D2',\n",
      "               rider_id='R1',\n",
      "               start_coords=[3, 5],\n",
      "               dest_coords=(10, 2),\n",
      "               started_at=datetime.datetime(2023, 5, 18, 22, 44, 13, 275190),\n",
      "               ended_at=datetime.datetime(2023, 5, 18, 22, 44, 13, 305529),\n",
      "               duration=48)\n",
      "ic| i: 'STOP_RIDE RIDE-102 7 9 50'\n"
     ]
    },
    {
     "name": "stdout",
     "output_type": "stream",
     "text": [
      "DRIVERS_MATCHED D1 D2 D3\n",
      "RIDE_STARTED RIDE-101\n",
      "RIDE_STARTED RIDE-102\n",
      "RIDE_STOPPED RIDE-101\n"
     ]
    },
    {
     "name": "stderr",
     "output_type": "stream",
     "text": [
      "ic| ride: Ride(id='RIDE-102',\n",
      "               driver_id='D1',\n",
      "               rider_id='R2',\n",
      "               start_coords=[1, 1],\n",
      "               dest_coords=(7, 9),\n",
      "               started_at=datetime.datetime(2023, 5, 18, 22, 44, 13, 290867),\n",
      "               ended_at=datetime.datetime(2023, 5, 18, 22, 44, 13, 460192),\n",
      "               duration=50)\n",
      "ic| i: 'BILL RIDE-101'\n",
      "ic| amt: 195.53\n",
      "ic| amt: 234.636\n",
      "ic| i: 'BILL RIDE-102'\n",
      "ic| amt: 215.0\n",
      "ic| amt: 258.0\n"
     ]
    },
    {
     "name": "stdout",
     "output_type": "stream",
     "text": [
      "RIDE_STOPPED RIDE-102\n",
      "BILL RIDE-101 D2 234.64\n",
      "BILL RIDE-102 D1 258.0\n"
     ]
    }
   ],
   "source": [
    "for i in range(len(testcases)):\n",
    "    t = \"\\n\".join(testcases[i])\n",
    "    run_testcase(t)"
   ],
   "metadata": {
    "collapsed": false,
    "ExecuteTime": {
     "start_time": "2023-05-18T22:44:12.130902Z",
     "end_time": "2023-05-18T22:44:13.778033Z"
    }
   }
  },
  {
   "cell_type": "code",
   "execution_count": 30,
   "outputs": [],
   "source": [
    "import sys"
   ],
   "metadata": {
    "collapsed": false,
    "ExecuteTime": {
     "start_time": "2023-05-18T22:44:13.775755Z",
     "end_time": "2023-05-18T22:44:13.779092Z"
    }
   }
  },
  {
   "cell_type": "code",
   "execution_count": 31,
   "outputs": [],
   "source": [
    "py_version = sys.version_info"
   ],
   "metadata": {
    "collapsed": false,
    "ExecuteTime": {
     "start_time": "2023-05-18T22:44:13.779003Z",
     "end_time": "2023-05-18T22:44:13.792804Z"
    }
   }
  },
  {
   "cell_type": "code",
   "execution_count": 32,
   "outputs": [
    {
     "name": "stdout",
     "output_type": "stream",
     "text": [
      "3 10\n"
     ]
    }
   ],
   "source": [
    "print(py_version.major,py_version.minor)"
   ],
   "metadata": {
    "collapsed": false,
    "ExecuteTime": {
     "start_time": "2023-05-18T22:44:13.782614Z",
     "end_time": "2023-05-18T22:44:13.793805Z"
    }
   }
  }
 ],
 "metadata": {
  "kernelspec": {
   "display_name": "Python 3",
   "language": "python",
   "name": "python3"
  },
  "language_info": {
   "codemirror_mode": {
    "name": "ipython",
    "version": 2
   },
   "file_extension": ".py",
   "mimetype": "text/x-python",
   "name": "python",
   "nbconvert_exporter": "python",
   "pygments_lexer": "ipython2",
   "version": "2.7.6"
  }
 },
 "nbformat": 4,
 "nbformat_minor": 0
}
