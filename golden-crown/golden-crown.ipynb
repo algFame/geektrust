{
 "cells": [
  {
   "cell_type": "code",
   "execution_count": 1,
   "metadata": {
    "collapsed": true,
    "ExecuteTime": {
     "start_time": "2023-05-24T18:22:19.443471Z",
     "end_time": "2023-05-24T18:22:19.449495Z"
    }
   },
   "outputs": [],
   "source": [
    "emblem = {'SPACE': 'GORILLA', 'LAND': 'PANDA', 'WATER': 'OCTOPUS', 'AIR': 'OWL', 'ICE': 'MAMMOTH', 'FIRE': 'DRAGON'}"
   ]
  },
  {
   "cell_type": "code",
   "execution_count": 3,
   "outputs": [
    {
     "data": {
      "text/plain": "dict_keys(['SPACE', 'LAND', 'WATER', 'AIR', 'ICE', 'FIRE'])"
     },
     "execution_count": 3,
     "metadata": {},
     "output_type": "execute_result"
    }
   ],
   "source": [
    "emblem.keys()"
   ],
   "metadata": {
    "collapsed": false,
    "ExecuteTime": {
     "start_time": "2023-05-24T18:23:28.443798Z",
     "end_time": "2023-05-24T18:23:28.450186Z"
    }
   }
  },
  {
   "cell_type": "code",
   "execution_count": 5,
   "outputs": [
    {
     "data": {
      "text/plain": "dict_values(['GORILLA', 'PANDA', 'OCTOPUS', 'OWL', 'MAMMOTH', 'DRAGON'])"
     },
     "execution_count": 5,
     "metadata": {},
     "output_type": "execute_result"
    }
   ],
   "source": [
    "emblem.values()"
   ],
   "metadata": {
    "collapsed": false,
    "ExecuteTime": {
     "start_time": "2023-05-24T18:25:51.072780Z",
     "end_time": "2023-05-24T18:25:51.084822Z"
    }
   }
  }
 ],
 "metadata": {
  "kernelspec": {
   "display_name": "Python 3",
   "language": "python",
   "name": "python3"
  },
  "language_info": {
   "codemirror_mode": {
    "name": "ipython",
    "version": 2
   },
   "file_extension": ".py",
   "mimetype": "text/x-python",
   "name": "python",
   "nbconvert_exporter": "python",
   "pygments_lexer": "ipython2",
   "version": "2.7.6"
  }
 },
 "nbformat": 4,
 "nbformat_minor": 0
}
