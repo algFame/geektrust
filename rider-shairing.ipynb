{
 "cells": [
  {
   "cell_type": "code",
   "execution_count": 26,
   "metadata": {
    "collapsed": true,
    "ExecuteTime": {
     "start_time": "2023-05-18T21:47:54.968551Z",
     "end_time": "2023-05-18T21:47:54.984057Z"
    }
   },
   "outputs": [],
   "source": [
    "import math\n",
    "import time\n",
    "\n",
    "input_str = \"\"\"\n",
    "ADD_DRIVER D1 1 1\n",
    "ADD_DRIVER D2 4 5\n",
    "ADD_DRIVER D3 2 2\n",
    "ADD_RIDER R1 0 0\n",
    "MATCH R1\n",
    "START_RIDE RIDE-001 2 R1\n",
    "STOP_RIDE RIDE-001 4 5 32\n",
    "BILL RIDE-001\n",
    "\"\"\"\n",
    "testcase = input_str.strip().splitlines()#[i for i in  input_str.splitlines() if len(i)>0]"
   ]
  },
  {
   "cell_type": "code",
   "execution_count": 2,
   "outputs": [],
   "source": [
    "from dataclasses import dataclass,field\n",
    "\n",
    "from datetime import datetime\n",
    "\n",
    "from typing import Tuple,Dict,DefaultDict,List\n",
    "\n",
    "from collections import defaultdict"
   ],
   "metadata": {
    "collapsed": false,
    "ExecuteTime": {
     "start_time": "2023-05-18T21:43:12.602727Z",
     "end_time": "2023-05-18T21:43:12.608516Z"
    }
   }
  },
  {
   "cell_type": "code",
   "execution_count": 3,
   "outputs": [],
   "source": [
    "from icecream import ic"
   ],
   "metadata": {
    "collapsed": false,
    "ExecuteTime": {
     "start_time": "2023-05-18T21:43:12.608168Z",
     "end_time": "2023-05-18T21:43:12.653637Z"
    }
   }
  },
  {
   "cell_type": "code",
   "execution_count": 4,
   "outputs": [],
   "source": [
    "@dataclass(slots=True)\n",
    "class Ride:\n",
    "    id: str\n",
    "    driver_id: str\n",
    "    rider_id: str\n",
    "\n",
    "    # driver_coords: Tuple[int]\n",
    "    start_coords: Tuple[int]\n",
    "    dest_coords: Tuple[int] = field(init=False)\n",
    "\n",
    "    started_at: datetime = field(init=False)\n",
    "    ended_at: datetime = field(init=False)\n",
    "\n",
    "    duration: int = field(init=False)\n",
    "\n",
    "    def start(self):\n",
    "        self.started_at = datetime.now()\n",
    "\n",
    "    def stop(self,dest_coords,duration_in_minutes=0):\n",
    "        self.ended_at = datetime.now()\n",
    "        self.dest_coords = dest_coords\n",
    "        self.duration = duration_in_minutes"
   ],
   "metadata": {
    "collapsed": false,
    "ExecuteTime": {
     "start_time": "2023-05-18T21:43:12.654408Z",
     "end_time": "2023-05-18T21:43:12.658681Z"
    }
   }
  },
  {
   "cell_type": "code",
   "execution_count": 5,
   "outputs": [],
   "source": [
    "@dataclass(slots=True)\n",
    "class Driver:\n",
    "    id: str\n",
    "    coord: List[int]\n",
    "\n",
    "@dataclass(slots=True)\n",
    "class Rider:\n",
    "    id: str\n",
    "    coord: List[int]\n"
   ],
   "metadata": {
    "collapsed": false,
    "ExecuteTime": {
     "start_time": "2023-05-18T21:43:12.663031Z",
     "end_time": "2023-05-18T21:43:12.665844Z"
    }
   }
  },
  {
   "cell_type": "code",
   "execution_count": 6,
   "outputs": [],
   "source": [
    "drivers:Dict[str,Driver] = dict()\n",
    "\n",
    "matched:DefaultDict[str,List[int]] = defaultdict(lambda:[]) #driverid's\n",
    "\n",
    "riders:Dict[str,Rider] = dict()\n",
    "\n",
    "rides:Dict[str,Ride] = dict()\n",
    "\n",
    "def rest_global():\n",
    "    # gs = [drivers,matched,riders,rides]\n",
    "    drivers.clear()\n",
    "    matched.clear()\n",
    "    riders.clear()\n",
    "    rides.clear()"
   ],
   "metadata": {
    "collapsed": false,
    "ExecuteTime": {
     "start_time": "2023-05-18T21:43:12.668368Z",
     "end_time": "2023-05-18T21:43:12.671341Z"
    }
   }
  },
  {
   "cell_type": "code",
   "execution_count": 7,
   "outputs": [],
   "source": [
    "def add_driver(id:str,x:int,y:int):\n",
    "    driver = Driver(id,[x,y])\n",
    "    drivers[id] = driver\n",
    "\n",
    "    ic(driver)"
   ],
   "metadata": {
    "collapsed": false,
    "ExecuteTime": {
     "start_time": "2023-05-18T21:43:12.673335Z",
     "end_time": "2023-05-18T21:43:12.680397Z"
    }
   }
  },
  {
   "cell_type": "code",
   "execution_count": 8,
   "outputs": [],
   "source": [
    "def add_rider(id:str, x:int, y:int):\n",
    "    rider = Rider(id,[x,y])\n",
    "    riders[id] = rider\n",
    "\n",
    "    ic(rider)"
   ],
   "metadata": {
    "collapsed": false,
    "ExecuteTime": {
     "start_time": "2023-05-18T21:43:12.678021Z",
     "end_time": "2023-05-18T21:43:12.707855Z"
    }
   }
  },
  {
   "cell_type": "code",
   "execution_count": 30,
   "outputs": [],
   "source": [
    "def match(rider_id:str):\n",
    "\n",
    "    drivers_available = []\n",
    "\n",
    "    rider = riders[rider_id]\n",
    "\n",
    "    for driver in drivers.values():\n",
    "        d = distance(driver.coord,rider.coord)\n",
    "        if d<5:\n",
    "            ic(rider_id,driver.id,d)\n",
    "            drivers_available.append((driver.id,d))\n",
    "        else:\n",
    "            ic(f\"ignoring {driver.id} is {d} away\")\n",
    "\n",
    "\n",
    "    drivers_available = sorted(drivers_available,key =lambda val : (val[1],val[0]))\n",
    "\n",
    "    ic(drivers_available)\n",
    "\n",
    "    if len(drivers_available)==0:\n",
    "        print(\"NO_DRIVERS_AVAILABLE\")\n",
    "        return\n",
    "\n",
    "    drivers_available = drivers_available[:5]\n",
    "\n",
    "    shorted_drivers = [i[0] for i in drivers_available]\n",
    "\n",
    "    matched[rider_id] = shorted_drivers\n",
    "\n",
    "    print(f\"\"\"DRIVERS_MATCHED {\" \".join(shorted_drivers)}\"\"\")\n"
   ],
   "metadata": {
    "collapsed": false,
    "ExecuteTime": {
     "start_time": "2023-05-18T21:52:15.296917Z",
     "end_time": "2023-05-18T21:52:15.323817Z"
    }
   }
  },
  {
   "cell_type": "code",
   "execution_count": 33,
   "outputs": [],
   "source": [
    "def start_ride(ride_id:str, driver_n:int, rider_id:str):\n",
    "    if ride_id in rides:\n",
    "        print(\"INVALID_RIDE\")\n",
    "        ic(f\"ride-{ride_id} already exist\")\n",
    "        return\n",
    "\n",
    "    drivers_matched = matched[rider_id]\n",
    "\n",
    "    if len(drivers_matched)<driver_n:\n",
    "        print(\"INVALID_RIDE\")\n",
    "        ic(f\"no drivers matched\")\n",
    "        return\n",
    "\n",
    "    driver_id = drivers_matched[driver_n-1]\n",
    "\n",
    "    rider = riders[rider_id]\n",
    "\n",
    "    ride = Ride(ride_id,driver_id,rider.id,rider.coord)\n",
    "    rides[ride_id] = ride\n",
    "    ride.start()\n",
    "\n",
    "    print(f\"RIDE_STARTED {ride.id}\")"
   ],
   "metadata": {
    "collapsed": false,
    "ExecuteTime": {
     "start_time": "2023-05-18T21:53:53.572330Z",
     "end_time": "2023-05-18T21:53:53.594009Z"
    }
   }
  },
  {
   "cell_type": "code",
   "execution_count": 11,
   "outputs": [],
   "source": [
    "def stop_ride(ride_id:str, dest_coords:Tuple[int], time_taken:int):\n",
    "    if ride_id not in rides:\n",
    "        print(\"INVALID_RIDE\")\n",
    "        return\n",
    "    ride = rides[ride_id]\n",
    "    ride.dest_coords = dest_coords\n",
    "    ride.stop(dest_coords,time_taken)\n",
    "    ic(ride)\n",
    "    print(f\"RIDE_STOPPED {ride_id}\")"
   ],
   "metadata": {
    "collapsed": false,
    "ExecuteTime": {
     "start_time": "2023-05-18T21:43:12.695540Z",
     "end_time": "2023-05-18T21:43:12.708345Z"
    }
   }
  },
  {
   "cell_type": "code",
   "execution_count": 44,
   "outputs": [],
   "source": [
    "def distance(start_coord: Tuple[int],dest_coord:Tuple[int])->float:\n",
    "    x2, x1 = dest_coord[0],start_coord[0]\n",
    "    y2, y1 = dest_coord[1],start_coord[1]\n",
    "\n",
    "    return math.sqrt((x2-x1)**2+(y2-y1)**2)\n",
    "\n",
    "def bill(ride_id:str):\n",
    "    base_fare = 50\n",
    "    cost_per_km = 6.5\n",
    "    cost_per_min = 2\n",
    "    service_tax = .2\n",
    "\n",
    "    if ride_id not in rides:\n",
    "        print(\"INVALID_RIDE\")\n",
    "        return\n",
    "\n",
    "    ride:Ride = rides[ride_id]\n",
    "\n",
    "    if ride.ended_at is None:\n",
    "        print(\"RIDE_NOT_COMPLETED\")\n",
    "        return\n",
    "\n",
    "    # duration = (ride.started_at-ride.ended_at).total_seconds()//60 #FIXME could be a prob\n",
    "\n",
    "    duration = ride.duration\n",
    "\n",
    "    d = round(distance(ride.start_coords, ride.dest_coords),2)\n",
    "\n",
    "    amt= base_fare + duration*cost_per_min + d*cost_per_km\n",
    "\n",
    "    ic(amt)\n",
    "    amt += amt*service_tax\n",
    "\n",
    "    ic(amt)\n",
    "    amt = round(amt,2)\n",
    "    print(f\"BILL {ride.id} {ride.driver_id} {amt}\")\n"
   ],
   "metadata": {
    "collapsed": false,
    "ExecuteTime": {
     "start_time": "2023-05-18T21:59:12.664917Z",
     "end_time": "2023-05-18T21:59:12.673033Z"
    }
   }
  },
  {
   "cell_type": "code",
   "execution_count": 14,
   "outputs": [],
   "source": [
    "def command_parser(cmd:str):\n",
    "    cmd, *args = cmd.split(\" \")\n",
    "\n",
    "    if cmd == \"ADD_DRIVER\":\n",
    "        coord = list(map(int,args[1:]))\n",
    "        add_driver(args[0],*coord)\n",
    "\n",
    "    if cmd == \"ADD_RIDER\":\n",
    "        coord = list(map(int,args[1:]))\n",
    "        add_rider(args[0],*coord)\n",
    "\n",
    "    if cmd == \"MATCH\":\n",
    "        match(args[0])\n",
    "\n",
    "    if cmd == \"START_RIDE\":\n",
    "        ride_id, nth_rider, rider_id = args\n",
    "        start_ride(ride_id,int(nth_rider),rider_id)\n",
    "\n",
    "    if cmd == \"STOP_RIDE\":\n",
    "        ride_id, dest_x, dest_y, time_taken = args\n",
    "        dest_coord  = (int(dest_x),int(dest_y))\n",
    "        stop_ride(ride_id,dest_coord,int(time_taken))\n",
    "\n",
    "    if cmd == \"BILL\":\n",
    "        ride_id = args[0]\n",
    "        bill(ride_id)"
   ],
   "metadata": {
    "collapsed": false
   }
  },
  {
   "cell_type": "code",
   "execution_count": 45,
   "outputs": [
    {
     "name": "stderr",
     "output_type": "stream",
     "text": [
      "ic| i: 'ADD_DRIVER D1 1 1'\n",
      "ic| driver: Driver(id='D1', coord=[1, 1])\n",
      "ic| i: 'ADD_DRIVER D2 4 5'\n",
      "ic| driver: Driver(id='D2', coord=[4, 5])\n",
      "ic| i: 'ADD_DRIVER D3 2 2'\n",
      "ic| driver: Driver(id='D3', coord=[2, 2])\n",
      "ic| i: 'ADD_RIDER R1 0 0'\n",
      "ic| rider: Rider(id='R1', coord=[0, 0])\n",
      "ic| i: 'MATCH R1'\n",
      "ic| rider_id: 'R1', driver.id: 'D1', d: 1.4142135623730951\n",
      "ic| f\"ignoring {driver.id} is {d} away\": 'ignoring D2 is 6.4031242374328485 away'\n",
      "ic| rider_id: 'R1', driver.id: 'D3', d: 2.8284271247461903\n",
      "ic| drivers_available: [('D1', 1.4142135623730951), ('D3', 2.8284271247461903)]\n",
      "ic| i: 'START_RIDE RIDE-001 2 R1'\n",
      "ic| i: 'STOP_RIDE RIDE-001 4 5 32'\n",
      "ic| ride: Ride(id='RIDE-001',\n",
      "               driver_id='D3',\n",
      "               rider_id='R1',\n",
      "               start_coords=[0, 0],\n",
      "               dest_coords=(4, 5),\n",
      "               started_at=datetime.datetime(2023, 5, 18, 21, 59, 20, 176910),\n",
      "               ended_at=datetime.datetime(2023, 5, 18, 21, 59, 20, 186884),\n",
      "               duration=32)\n",
      "ic| i: 'BILL RIDE-001'\n",
      "ic| amt: 155.6\n",
      "ic| amt: 186.72\n"
     ]
    },
    {
     "name": "stdout",
     "output_type": "stream",
     "text": [
      "DRIVERS_MATCHED D1 D3\n",
      "RIDE_STARTED RIDE-001\n",
      "RIDE_STOPPED RIDE-001\n",
      "BILL RIDE-001 D3 186.72\n"
     ]
    }
   ],
   "source": [
    "rest_global()\n",
    "for i in testcase:\n",
    "    ic(i)\n",
    "    command_parser(i)\n"
   ],
   "metadata": {
    "collapsed": false,
    "ExecuteTime": {
     "start_time": "2023-05-18T21:59:19.939169Z",
     "end_time": "2023-05-18T21:59:20.420943Z"
    }
   }
  },
  {
   "cell_type": "code",
   "execution_count": 15,
   "outputs": [],
   "source": [
    "# ic.disable()\n",
    "# ic.enable()"
   ],
   "metadata": {
    "collapsed": false
   }
  },
  {
   "cell_type": "code",
   "execution_count": 36,
   "outputs": [],
   "source": [
    "def run_testcase(in_str:str):\n",
    "    rest_global()\n",
    "    testcase = in_str.strip().splitlines()\n",
    "    for i in testcase:\n",
    "        ic(i)\n",
    "        command_parser(i)"
   ],
   "metadata": {
    "collapsed": false,
    "ExecuteTime": {
     "start_time": "2023-05-18T21:54:54.184525Z",
     "end_time": "2023-05-18T21:54:54.199635Z"
    }
   }
  },
  {
   "cell_type": "code",
   "execution_count": 24,
   "outputs": [],
   "source": [
    "testcase = \"\"\"\n",
    "ADD_DRIVER D1 1 1\n",
    "ADD_DRIVER D2 4 5\n",
    "ADD_DRIVER D3 2 2\n",
    "ADD_RIDER R1 0 0\n",
    "MATCH R1\n",
    "START_RIDE RIDE-001 2 R1\n",
    "STOP_RIDE RIDE-001 4 5 32\n",
    "BILL RIDE-001\n",
    "\"\"\".strip().splitlines()"
   ],
   "metadata": {
    "collapsed": false,
    "ExecuteTime": {
     "start_time": "2023-05-18T21:47:31.190891Z",
     "end_time": "2023-05-18T21:47:31.200090Z"
    }
   }
  },
  {
   "cell_type": "code",
   "execution_count": null,
   "outputs": [],
   "source": [
    "import os\n",
    "\n",
    "testcase_files = os.listdir()"
   ],
   "metadata": {
    "collapsed": false
   }
  }
 ],
 "metadata": {
  "kernelspec": {
   "display_name": "Python 3",
   "language": "python",
   "name": "python3"
  },
  "language_info": {
   "codemirror_mode": {
    "name": "ipython",
    "version": 2
   },
   "file_extension": ".py",
   "mimetype": "text/x-python",
   "name": "python",
   "nbconvert_exporter": "python",
   "pygments_lexer": "ipython2",
   "version": "2.7.6"
  }
 },
 "nbformat": 4,
 "nbformat_minor": 0
}
