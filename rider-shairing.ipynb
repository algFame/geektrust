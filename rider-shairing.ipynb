{
 "cells": [
  {
   "cell_type": "code",
   "execution_count": 1,
   "metadata": {
    "collapsed": true,
    "ExecuteTime": {
     "start_time": "2023-05-18T18:42:45.905050Z",
     "end_time": "2023-05-18T18:42:45.918144Z"
    }
   },
   "outputs": [
    {
     "data": {
      "text/plain": "['ADD_DRIVER D1 1 1',\n 'ADD_DRIVER D2 4 5',\n 'ADD_DRIVER D3 2 2',\n 'ADD_RIDER R1 0 0',\n 'MATCH R1',\n 'START_RIDE RIDE-001 2 R1',\n 'STOP_RIDE RIDE-001 4 5 32',\n 'BILL RIDE-001']"
     },
     "execution_count": 1,
     "metadata": {},
     "output_type": "execute_result"
    }
   ],
   "source": [
    "import math\n",
    "import time\n",
    "\n",
    "input_str = \"\"\"\n",
    "ADD_DRIVER D1 1 1\n",
    "ADD_DRIVER D2 4 5\n",
    "ADD_DRIVER D3 2 2\n",
    "ADD_RIDER R1 0 0\n",
    "MATCH R1\n",
    "START_RIDE RIDE-001 2 R1\n",
    "STOP_RIDE RIDE-001 4 5 32\n",
    "BILL RIDE-001\n",
    "\"\"\"\n",
    "testcase = [i for i in  input_str.splitlines() if len(i)>0]\n",
    "testcase"
   ]
  },
  {
   "cell_type": "code",
   "execution_count": null,
   "outputs": [],
   "source": [
    "drivers = defaultdict(lambda:str)"
   ],
   "metadata": {
    "collapsed": false
   }
  },
  {
   "cell_type": "code",
   "execution_count": 23,
   "outputs": [],
   "source": [
    "from dataclasses import dataclass,field\n",
    "\n",
    "from datetime import datetime\n",
    "\n",
    "from typing import Tuple,Dict,DefaultDict\n",
    "\n",
    "@dataclass(slots=True)\n",
    "class Ride:\n",
    "    id: str\n",
    "    driver_id: str\n",
    "    rider_id: str\n",
    "\n",
    "    # driver_coords: Tuple[int]\n",
    "    rider_coords: Tuple[int]\n",
    "    dest_coords: Tuple[int]\n",
    "\n",
    "    started_at: datetime = field(init=False,default=None) #FIXME : might fail\n",
    "    ended_at: datetime = field(init=False,default=None)\n",
    "    # start_coords = None\n",
    "\n",
    "    def start(self):\n",
    "        self.started_at = datetime.now()\n",
    "\n",
    "    def stop(self):\n",
    "        self.ended_at = datetime.now()"
   ],
   "metadata": {
    "collapsed": false,
    "ExecuteTime": {
     "start_time": "2023-05-18T19:39:29.599735Z",
     "end_time": "2023-05-18T19:39:29.612422Z"
    }
   }
  },
  {
   "cell_type": "code",
   "execution_count": 24,
   "outputs": [],
   "source": [
    "from collections import defaultdict\n",
    "\n",
    "rides:DefaultDict[str,Ride] = defaultdict(None)"
   ],
   "metadata": {
    "collapsed": false,
    "ExecuteTime": {
     "start_time": "2023-05-18T19:41:49.701066Z",
     "end_time": "2023-05-18T19:41:49.728501Z"
    }
   }
  },
  {
   "cell_type": "code",
   "execution_count": 11,
   "outputs": [],
   "source": [
    "def add_driver(id:str,x:int,y:int):\n",
    "    pass"
   ],
   "metadata": {
    "collapsed": false,
    "ExecuteTime": {
     "start_time": "2023-05-18T18:19:46.676681Z",
     "end_time": "2023-05-18T18:19:46.686111Z"
    }
   }
  },
  {
   "cell_type": "code",
   "execution_count": null,
   "outputs": [],
   "source": [
    "def add_rider(id:str, x:int, y:int):\n",
    "    pass"
   ],
   "metadata": {
    "collapsed": false
   }
  },
  {
   "cell_type": "code",
   "execution_count": null,
   "outputs": [],
   "source": [
    "def match(rider_id:str):\n",
    "    pass"
   ],
   "metadata": {
    "collapsed": false
   }
  },
  {
   "cell_type": "code",
   "execution_count": 15,
   "outputs": [],
   "source": [
    "def start_ride(ride_id:str,rider_id:int):\n",
    "    if ride_id in rides:\n",
    "        print(\"INVALID_RIDE\")\n",
    "        return\n",
    "\n",
    "    ride = rides[ride_id]\n",
    "    print(f\"RIDE_STARTED {ride.id}\")"
   ],
   "metadata": {
    "collapsed": false,
    "ExecuteTime": {
     "start_time": "2023-05-18T18:28:56.957587Z",
     "end_time": "2023-05-18T18:28:57.017237Z"
    }
   }
  },
  {
   "cell_type": "code",
   "execution_count": 16,
   "outputs": [],
   "source": [
    "def stop_ride(ride_id:str, x:int,y:int):\n",
    "    if ride_id not in rides:\n",
    "        print(\"INVALID_RIDE\")\n",
    "        return\n",
    "    rid = rides[ride_id]\n",
    "    print(f\"RIDE_STOPPED {rid}\")"
   ],
   "metadata": {
    "collapsed": false,
    "ExecuteTime": {
     "start_time": "2023-05-18T18:28:58.506171Z",
     "end_time": "2023-05-18T18:28:58.565701Z"
    }
   }
  },
  {
   "cell_type": "code",
   "execution_count": 9,
   "outputs": [
    {
     "data": {
      "text/plain": "'3.10.9 (main, Feb  1 2023, 04:13:55) [Clang 14.0.0 (clang-1400.0.29.202)]'"
     },
     "execution_count": 9,
     "metadata": {},
     "output_type": "execute_result"
    }
   ],
   "source": [
    "import sys\n",
    "\n",
    "\n",
    "sys.version"
   ],
   "metadata": {
    "collapsed": false,
    "ExecuteTime": {
     "start_time": "2023-05-18T18:52:49.459747Z",
     "end_time": "2023-05-18T18:52:49.493763Z"
    }
   }
  },
  {
   "cell_type": "code",
   "execution_count": 30,
   "outputs": [],
   "source": [
    "def distance(start_coord: Tuple[int],dest_coord:Tuple[int])->float:\n",
    "    x2, x1 = dest_coord[0],start_coord[0]\n",
    "    y2, y1 = dest_coord[1],start_coord[1]\n",
    "\n",
    "    return math.sqrt((x2-x1)**2+(y2-y1)**2)\n",
    "\n",
    "def bill(ride_id:str):\n",
    "    base_fare = 50\n",
    "    cost_per_km = 6.5\n",
    "    cost_per_min = 2\n",
    "    service_tax = .2\n",
    "\n",
    "    ride:Ride = rides[ride_id]\n",
    "\n",
    "    if ride.ended_at is None:\n",
    "        print(\"RIDE_NOT_COMPLETED\")\n",
    "        return\n",
    "\n",
    "    if ride is None:\n",
    "        print(\"INVALID_RIDE\")\n",
    "        return\n",
    "\n",
    "    duration = (ride.started_at-ride.ended_at).total_seconds()//60 #FIXME could be a prob\n",
    "\n",
    "    d = distance(ride.rider_coords,ride.dest_coords)\n",
    "\n",
    "    amt= base_fare + duration*cost_per_min + d*cost_per_km\n",
    "\n",
    "    amt += amt*service_tax\n",
    "\n",
    "    print(f\"BILL {ride.id} {ride.driver_id} {amt}\")\n"
   ],
   "metadata": {
    "collapsed": false,
    "ExecuteTime": {
     "start_time": "2023-05-18T20:11:19.344152Z",
     "end_time": "2023-05-18T20:11:19.352062Z"
    }
   }
  }
 ],
 "metadata": {
  "kernelspec": {
   "display_name": "Python 3",
   "language": "python",
   "name": "python3"
  },
  "language_info": {
   "codemirror_mode": {
    "name": "ipython",
    "version": 2
   },
   "file_extension": ".py",
   "mimetype": "text/x-python",
   "name": "python",
   "nbconvert_exporter": "python",
   "pygments_lexer": "ipython2",
   "version": "2.7.6"
  }
 },
 "nbformat": 4,
 "nbformat_minor": 0
}
