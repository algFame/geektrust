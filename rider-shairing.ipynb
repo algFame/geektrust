{
 "cells": [
  {
   "cell_type": "code",
   "execution_count": 9,
   "metadata": {
    "collapsed": true,
    "ExecuteTime": {
     "start_time": "2023-05-18T18:18:24.841012Z",
     "end_time": "2023-05-18T18:18:24.878506Z"
    }
   },
   "outputs": [
    {
     "data": {
      "text/plain": "['ADD_DRIVER D1 1 1',\n 'ADD_DRIVER D2 4 5',\n 'ADD_DRIVER D3 2 2',\n 'ADD_RIDER R1 0 0',\n 'MATCH R1',\n 'START_RIDE RIDE-001 2 R1',\n 'STOP_RIDE RIDE-001 4 5 32',\n 'BILL RIDE-001']"
     },
     "execution_count": 9,
     "metadata": {},
     "output_type": "execute_result"
    }
   ],
   "source": [
    "input_str = \"\"\"\n",
    "ADD_DRIVER D1 1 1\n",
    "ADD_DRIVER D2 4 5\n",
    "ADD_DRIVER D3 2 2\n",
    "ADD_RIDER R1 0 0\n",
    "MATCH R1\n",
    "START_RIDE RIDE-001 2 R1\n",
    "STOP_RIDE RIDE-001 4 5 32\n",
    "BILL RIDE-001\n",
    "\"\"\"\n",
    "testcase = [i for i in  input_str.splitlines() if len(i)>0]\n",
    "testcase"
   ]
  },
  {
   "cell_type": "code",
   "execution_count": null,
   "outputs": [],
   "source": [
    "from collections import defaultdict\n",
    "\n",
    "rides = defaultdict(lambda:str)"
   ],
   "metadata": {
    "collapsed": false
   }
  },
  {
   "cell_type": "code",
   "execution_count": 11,
   "outputs": [],
   "source": [
    "def add_driver(id:int,x:int,y:int):\n",
    "    pass"
   ],
   "metadata": {
    "collapsed": false,
    "ExecuteTime": {
     "start_time": "2023-05-18T18:19:46.676681Z",
     "end_time": "2023-05-18T18:19:46.686111Z"
    }
   }
  },
  {
   "cell_type": "code",
   "execution_count": null,
   "outputs": [],
   "source": [
    "def add_rider(id:int, x:int, y:int):\n",
    "    pass"
   ],
   "metadata": {
    "collapsed": false
   }
  },
  {
   "cell_type": "code",
   "execution_count": null,
   "outputs": [],
   "source": [
    "def match(rider_id:int):\n",
    "    pass"
   ],
   "metadata": {
    "collapsed": false
   }
  },
  {
   "cell_type": "code",
   "execution_count": 15,
   "outputs": [],
   "source": [
    "def start_ride(ride_id:int,rider_id:int):\n",
    "    if ride_id in rides:\n",
    "        print(\"INVALID_RIDE\")\n",
    "        return\n",
    "\n",
    "    rid = rides[ride_id]\n",
    "    print(f\"RIDE_STARTED {rid}\")"
   ],
   "metadata": {
    "collapsed": false,
    "ExecuteTime": {
     "start_time": "2023-05-18T18:28:56.957587Z",
     "end_time": "2023-05-18T18:28:57.017237Z"
    }
   }
  },
  {
   "cell_type": "code",
   "execution_count": 16,
   "outputs": [],
   "source": [
    "def stop_ride(ride_id:int, x:int,y:int,):\n",
    "    if ride_id not in rides:\n",
    "        print(\"INVALID_RIDE\")\n",
    "        return\n",
    "    rid = rides[ride_id]\n",
    "    print(f\"RIDE_STOPPED {rid}\")"
   ],
   "metadata": {
    "collapsed": false,
    "ExecuteTime": {
     "start_time": "2023-05-18T18:28:58.506171Z",
     "end_time": "2023-05-18T18:28:58.565701Z"
    }
   }
  },
  {
   "cell_type": "code",
   "execution_count": null,
   "outputs": [],
   "source": [
    "def bill(ride_id:int):\n"
   ],
   "metadata": {
    "collapsed": false
   }
  }
 ],
 "metadata": {
  "kernelspec": {
   "display_name": "Python 3",
   "language": "python",
   "name": "python3"
  },
  "language_info": {
   "codemirror_mode": {
    "name": "ipython",
    "version": 2
   },
   "file_extension": ".py",
   "mimetype": "text/x-python",
   "name": "python",
   "nbconvert_exporter": "python",
   "pygments_lexer": "ipython2",
   "version": "2.7.6"
  }
 },
 "nbformat": 4,
 "nbformat_minor": 0
}
